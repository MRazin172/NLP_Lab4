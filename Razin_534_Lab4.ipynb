{
  "nbformat": 4,
  "nbformat_minor": 0,
  "metadata": {
    "colab": {
      "provenance": [],
      "authorship_tag": "ABX9TyMYGfI70gPblKjVusihGj9n",
      "include_colab_link": true
    },
    "kernelspec": {
      "name": "python3",
      "display_name": "Python 3"
    },
    "language_info": {
      "name": "python"
    }
  },
  "cells": [
    {
      "cell_type": "markdown",
      "metadata": {
        "id": "view-in-github",
        "colab_type": "text"
      },
      "source": [
        "<a href=\"https://colab.research.google.com/github/MRazin172/NLP_Lab4/blob/main/Razin_534_Lab4.ipynb\" target=\"_parent\"><img src=\"https://colab.research.google.com/assets/colab-badge.svg\" alt=\"Open In Colab\"/></a>"
      ]
    },
    {
      "cell_type": "code",
      "source": [
        "import nltk\n",
        "nltk.download('wordnet')\n"
      ],
      "metadata": {
        "colab": {
          "base_uri": "https://localhost:8080/"
        },
        "id": "WGEX9J9aULaw",
        "outputId": "0f06e59c-67b7-45dc-885f-3566da90827d"
      },
      "execution_count": 89,
      "outputs": [
        {
          "output_type": "stream",
          "name": "stderr",
          "text": [
            "[nltk_data] Downloading package wordnet to /root/nltk_data...\n",
            "[nltk_data]   Package wordnet is already up-to-date!\n"
          ]
        },
        {
          "output_type": "execute_result",
          "data": {
            "text/plain": [
              "True"
            ]
          },
          "metadata": {},
          "execution_count": 89
        }
      ]
    },
    {
      "cell_type": "code",
      "source": [
        "words = [\"fear\", \"smile\", \"sharp\", \"walk\", \"mango\"]\n"
      ],
      "metadata": {
        "id": "k_efIgIegXTh"
      },
      "execution_count": 90,
      "outputs": []
    },
    {
      "cell_type": "code",
      "execution_count": 91,
      "metadata": {
        "colab": {
          "base_uri": "https://localhost:8080/"
        },
        "id": "REe_yoqhTwah",
        "outputId": "ae1c0994-f04a-4867-be95-d0671a2de62f"
      },
      "outputs": [
        {
          "output_type": "stream",
          "name": "stderr",
          "text": [
            "[nltk_data] Downloading package wordnet to /root/nltk_data...\n",
            "[nltk_data]   Package wordnet is already up-to-date!\n"
          ]
        }
      ],
      "source": [
        "from nltk.corpus import wordnet\n",
        "import nltk\n",
        "nltk.download('wordnet')\n",
        "\n",
        "synonyms = {}\n",
        "for word in words:\n",
        "    synonyms[word] = set()\n",
        "    for syn in wordnet.synsets(word):\n",
        "        for lemma in syn.lemmas():\n",
        "            synonyms[word].add(lemma.name())"
      ]
    },
    {
      "cell_type": "code",
      "source": [
        "synonyms"
      ],
      "metadata": {
        "colab": {
          "base_uri": "https://localhost:8080/"
        },
        "id": "zSf7wKEkgaoX",
        "outputId": "fb58ae1a-651b-49b8-f484-b4da1d6002ec"
      },
      "execution_count": 92,
      "outputs": [
        {
          "output_type": "execute_result",
          "data": {
            "text/plain": [
              "{'fear': {'awe',\n",
              "  'care',\n",
              "  'concern',\n",
              "  'dread',\n",
              "  'fear',\n",
              "  'fearfulness',\n",
              "  'fright',\n",
              "  'revere',\n",
              "  'reverence',\n",
              "  'venerate',\n",
              "  'veneration'},\n",
              " 'smile': {'grin', 'grinning', 'smile', 'smiling'},\n",
              " 'sharp': {'abrupt',\n",
              "  'acuate',\n",
              "  'acute',\n",
              "  'acutely',\n",
              "  'astute',\n",
              "  'crisp',\n",
              "  'discriminating',\n",
              "  'incisive',\n",
              "  'keen',\n",
              "  'knifelike',\n",
              "  'needlelike',\n",
              "  'penetrating',\n",
              "  'penetrative',\n",
              "  'piercing',\n",
              "  'precipitous',\n",
              "  'sharp',\n",
              "  'sharp-worded',\n",
              "  'sharply',\n",
              "  'shrewd',\n",
              "  'shrill',\n",
              "  'tart'},\n",
              " 'walk': {'base_on_balls',\n",
              "  'manner_of_walking',\n",
              "  'paseo',\n",
              "  'pass',\n",
              "  'take_the_air',\n",
              "  'walk',\n",
              "  'walk_of_life',\n",
              "  'walking',\n",
              "  'walkway'},\n",
              " 'mango': {'Mangifera_indica', 'mango', 'mango_tree'}}"
            ]
          },
          "metadata": {},
          "execution_count": 92
        }
      ]
    },
    {
      "cell_type": "code",
      "source": [
        "from nltk.corpus import wordnet\n",
        "import nltk\n",
        "nltk.download('wordnet')\n",
        "\n",
        "meanings = {}\n",
        "for word in words:\n",
        "    synsets = wordnet.synsets(word)\n",
        "\n",
        "    if len(synsets) >= 3:\n",
        "        third_meaning = synsets[2]\n",
        "        meanings[word] = third_meaning.definition()\n",
        "\n",
        "for word, meaning in meanings.items():\n",
        "    print(f\"3rd meaning for {word}: {meaning}\")\n"
      ],
      "metadata": {
        "colab": {
          "base_uri": "https://localhost:8080/"
        },
        "id": "-ALBQtRFgcea",
        "outputId": "7be2c031-63ef-4114-ecbf-6c7dbb077f87"
      },
      "execution_count": 93,
      "outputs": [
        {
          "output_type": "stream",
          "name": "stdout",
          "text": [
            "3rd meaning for fear: a feeling of profound respect for someone or something\n",
            "3rd meaning for smile: express with a smile\n",
            "3rd meaning for sharp: (of something seen or heard) clearly defined\n",
            "3rd meaning for walk: manner of walking\n"
          ]
        },
        {
          "output_type": "stream",
          "name": "stderr",
          "text": [
            "[nltk_data] Downloading package wordnet to /root/nltk_data...\n",
            "[nltk_data]   Package wordnet is already up-to-date!\n"
          ]
        }
      ]
    },
    {
      "cell_type": "code",
      "source": [
        "from nltk.corpus import wordnet\n",
        "import nltk\n",
        "nltk.download('wordnet')\n",
        "\n",
        "nouns = {}\n",
        "for word in words:\n",
        "    synsets = wordnet.synsets(word)\n",
        "    noun_synsets = [syn for syn in synsets if syn.pos() == 'n']\n",
        "\n",
        "    if noun_synsets:\n",
        "        noun_words = [lemma.name() for syn in noun_synsets for lemma in syn.lemmas()]\n",
        "        nouns[word] = noun_words\n",
        "\n",
        "for word, word_nouns in nouns.items():\n",
        "    print(f\"Nouns for {word}: {word_nouns}\")\n",
        "\n"
      ],
      "metadata": {
        "colab": {
          "base_uri": "https://localhost:8080/"
        },
        "id": "fMoNjA4dgiDm",
        "outputId": "36af8582-8028-4e5c-c4bd-6b08aa84813a"
      },
      "execution_count": 94,
      "outputs": [
        {
          "output_type": "stream",
          "name": "stdout",
          "text": [
            "Nouns for fear: ['fear', 'fearfulness', 'fright', 'concern', 'care', 'fear', 'fear', 'reverence', 'awe', 'veneration']\n",
            "Nouns for smile: ['smile', 'smiling', 'grin', 'grinning']\n",
            "Nouns for sharp: ['sharp', 'sharp']\n",
            "Nouns for walk: ['walk', 'walking', 'base_on_balls', 'walk', 'pass', 'walk', 'manner_of_walking', 'walk', 'walk', 'walkway', 'paseo', 'walk', 'walk_of_life', 'walk']\n",
            "Nouns for mango: ['mango', 'mango_tree', 'Mangifera_indica', 'mango']\n"
          ]
        },
        {
          "output_type": "stream",
          "name": "stderr",
          "text": [
            "[nltk_data] Downloading package wordnet to /root/nltk_data...\n",
            "[nltk_data]   Package wordnet is already up-to-date!\n"
          ]
        }
      ]
    },
    {
      "cell_type": "code",
      "source": [
        "verbs = {}\n",
        "for word in words:\n",
        "    synsets = wordnet.synsets(word)\n",
        "    verb_synsets = [syn for syn in synsets if syn.pos() == 'v']\n",
        "\n",
        "    if verb_synsets:\n",
        "        verb_words = [lemma.name() for syn in verb_synsets for lemma in syn.lemmas()]\n",
        "        verbs[word] = verb_words\n",
        "\n",
        "for word, word_verbs in verbs.items():\n",
        "    print(f\"Verbs for {word}: {word_verbs}\")"
      ],
      "metadata": {
        "colab": {
          "base_uri": "https://localhost:8080/"
        },
        "id": "AZeoLC_gglm8",
        "outputId": "f0fd4ae5-e5b4-4b63-e359-d55077758f8f"
      },
      "execution_count": 95,
      "outputs": [
        {
          "output_type": "stream",
          "name": "stdout",
          "text": [
            "Verbs for fear: ['fear', 'fear', 'dread', 'fear', 'fear', 'reverence', 'fear', 'revere', 'venerate']\n",
            "Verbs for smile: ['smile', 'smile']\n",
            "Verbs for walk: ['walk', 'walk', 'walk', 'walk', 'walk', 'walk', 'walk', 'walk', 'walk', 'walk', 'take_the_air']\n"
          ]
        }
      ]
    },
    {
      "cell_type": "code",
      "source": [
        "\n",
        "adjectives = {}\n",
        "for word in words:\n",
        "    synsets = wordnet.synsets(word)\n",
        "    adjective_synsets = [syn for syn in synsets if syn.pos() == 'a']\n",
        "\n",
        "    if adjective_synsets:\n",
        "        adjective_words = [lemma.name() for syn in adjective_synsets for lemma in syn.lemmas()]\n",
        "        adjectives[word] = adjective_words\n",
        "\n",
        "\n",
        "for word, word_adjectives in adjectives.items():\n",
        "    print(f\"Adjectives for {word}: {word_adjectives}\")\n"
      ],
      "metadata": {
        "colab": {
          "base_uri": "https://localhost:8080/"
        },
        "id": "Vl6kSd9Fdci4",
        "outputId": "02b33cec-dbdd-46eb-8b81-ae4da91d70c1"
      },
      "execution_count": 96,
      "outputs": [
        {
          "output_type": "stream",
          "name": "stdout",
          "text": [
            "Adjectives for sharp: ['sharp', 'sharp', 'sharp']\n"
          ]
        }
      ]
    },
    {
      "cell_type": "code",
      "source": [
        "adverbs = {}\n",
        "for word in words:\n",
        "    synsets = wordnet.synsets(word)\n",
        "    adverb_synsets = [syn for syn in synsets if syn.pos() == 'r']\n",
        "\n",
        "    if adverb_synsets:\n",
        "        adverb_words = [lemma.name() for syn in adverb_synsets for lemma in syn.lemmas()]\n",
        "        adverbs[word] = adverb_words\n",
        "\n",
        "for word, word_adverbs in adverbs.items():\n",
        "    print(f\"Adverbs for {word}: {word_adverbs}\")"
      ],
      "metadata": {
        "colab": {
          "base_uri": "https://localhost:8080/"
        },
        "id": "KKB91B6QgorR",
        "outputId": "f979c84c-d903-41a4-dfd7-8e7a857d7a67"
      },
      "execution_count": 97,
      "outputs": [
        {
          "output_type": "stream",
          "name": "stdout",
          "text": [
            "Adverbs for sharp: ['sharply', 'sharp', 'acutely']\n"
          ]
        }
      ]
    },
    {
      "cell_type": "code",
      "source": [
        "definitions = {}\n",
        "for word in words:\n",
        "    synsets = wordnet.synsets(word)\n",
        "\n",
        "    if synsets:\n",
        "        first_synset = synsets[0]\n",
        "        definition = first_synset.definition()\n",
        "        definitions[word] = definition\n",
        "\n",
        "for word, word_definition in definitions.items():\n",
        "    print(f\"Definition of {word}: {word_definition}\")\n"
      ],
      "metadata": {
        "colab": {
          "base_uri": "https://localhost:8080/"
        },
        "id": "5b10MHZ1grWZ",
        "outputId": "22139a07-52b6-4a7c-aa95-990f6211044e"
      },
      "execution_count": 98,
      "outputs": [
        {
          "output_type": "stream",
          "name": "stdout",
          "text": [
            "Definition of fear: an emotion experienced in anticipation of some specific pain or danger (usually accompanied by a desire to flee or fight)\n",
            "Definition of smile: a facial expression characterized by turning up the corners of the mouth; usually shows pleasure or amusement\n",
            "Definition of sharp: a musical notation indicating one half step higher than the note named\n",
            "Definition of walk: the act of traveling by foot\n",
            "Definition of mango: large evergreen tropical tree cultivated for its large oval fruit\n"
          ]
        }
      ]
    },
    {
      "cell_type": "code",
      "source": [
        "hypernyms_dict = {}\n",
        "hyponyms_dict = {}\n",
        "\n",
        "for word in words:\n",
        "    synsets = wordnet.synsets(word)\n",
        "\n",
        "    if synsets:\n",
        "        first_synset = synsets[0]\n",
        "\n",
        "        hypernyms = first_synset.hypernyms()\n",
        "        hypernyms_words = [hypernym.name() for hypernym in hypernyms]\n",
        "        hypernyms_dict[word] = hypernyms_words\n",
        "\n",
        "        hyponyms = first_synset.hyponyms()\n",
        "        hyponyms_words = [hyponym.name() for hyponym in hyponyms]\n",
        "        hyponyms_dict[word] = hyponyms_words\n",
        "\n",
        "for word in words:\n",
        "    print(f\"Word: {word}\")\n",
        "    print(f\"Hypernyms: {hypernyms_dict[word]}\")\n",
        "    print(f\"Hyponyms: {hyponyms_dict[word]}\")\n",
        "    print(\"\\n\")\n"
      ],
      "metadata": {
        "colab": {
          "base_uri": "https://localhost:8080/"
        },
        "id": "6DYg_LxPgt-I",
        "outputId": "8b80664f-7ff5-4c5b-9fc8-fef28a361578"
      },
      "execution_count": 99,
      "outputs": [
        {
          "output_type": "stream",
          "name": "stdout",
          "text": [
            "Word: fear\n",
            "Hypernyms: ['emotion.n.01']\n",
            "Hyponyms: ['alarm.n.01', 'apprehension.n.01', 'creeps.n.02', 'frisson.n.01', 'horror.n.01', 'hysteria.n.02', 'intimidation.n.03', 'panic.n.01', 'scare.n.02', 'stage_fright.n.01', 'timidity.n.01']\n",
            "\n",
            "\n",
            "Word: smile\n",
            "Hypernyms: ['facial_expression.n.01']\n",
            "Hyponyms: ['simper.n.01', 'smirk.n.01']\n",
            "\n",
            "\n",
            "Word: sharp\n",
            "Hypernyms: ['musical_notation.n.01']\n",
            "Hyponyms: ['double_sharp.n.01']\n",
            "\n",
            "\n",
            "Word: walk\n",
            "Hypernyms: ['locomotion.n.02']\n",
            "Hyponyms: ['ambulation.n.01', 'gait.n.03', 'march.n.02', 'plodding.n.02', 'prowl.n.01', 'shamble.n.01', 'sleepwalking.n.01', 'wading.n.01']\n",
            "\n",
            "\n",
            "Word: mango\n",
            "Hypernyms: ['fruit_tree.n.01']\n",
            "Hyponyms: []\n",
            "\n",
            "\n"
          ]
        }
      ]
    },
    {
      "cell_type": "code",
      "source": [
        "from nltk.corpus import wordnet\n",
        "import nltk\n",
        "nltk.download('wordnet')\n",
        "\n",
        "def find_one_hyponym_pair_similarity(word):\n",
        "    synsets = wordnet.synsets(word)\n",
        "\n",
        "    if synsets:\n",
        "        first_synset = synsets[0]\n",
        "        hyponyms = first_synset.hyponyms()\n",
        "        if len(hyponyms) >= 2:\n",
        "            hyponym1, hyponym2 = hyponyms[:2]\n",
        "            similarity = hyponym1.path_similarity(hyponym2)\n",
        "            return hyponym1.name(), hyponym2.name(), similarity\n",
        "        else:\n",
        "            return f\"{word} has fewer than two hyponyms\", None, None\n",
        "\n",
        "for word in words:\n",
        "    hyponym1, hyponym2, similarity = find_one_hyponym_pair_similarity(word)\n",
        "    print(f\"Word: {word}\")\n",
        "    if hyponym1:\n",
        "        print(f\"Hyponym 1: {hyponym1}\")\n",
        "        print(f\"Hyponym 2: {hyponym2}\")\n",
        "        print(f\"Similarity: {similarity}\")"
      ],
      "metadata": {
        "colab": {
          "base_uri": "https://localhost:8080/"
        },
        "id": "FpLqLPDggvzV",
        "outputId": "40eaf302-873e-40cf-eb55-14f2ca67d6ff"
      },
      "execution_count": 100,
      "outputs": [
        {
          "output_type": "stream",
          "name": "stdout",
          "text": [
            "Word: fear\n",
            "Hyponym 1: alarm.n.01\n",
            "Hyponym 2: apprehension.n.01\n",
            "Similarity: 0.3333333333333333\n",
            "Word: smile\n",
            "Hyponym 1: simper.n.01\n",
            "Hyponym 2: smirk.n.01\n",
            "Similarity: 0.3333333333333333\n",
            "Word: sharp\n",
            "Hyponym 1: sharp has fewer than two hyponyms\n",
            "Hyponym 2: None\n",
            "Similarity: None\n",
            "Word: walk\n",
            "Hyponym 1: ambulation.n.01\n",
            "Hyponym 2: gait.n.03\n",
            "Similarity: 0.3333333333333333\n",
            "Word: mango\n",
            "Hyponym 1: mango has fewer than two hyponyms\n",
            "Hyponym 2: None\n",
            "Similarity: None\n"
          ]
        },
        {
          "output_type": "stream",
          "name": "stderr",
          "text": [
            "[nltk_data] Downloading package wordnet to /root/nltk_data...\n",
            "[nltk_data]   Package wordnet is already up-to-date!\n"
          ]
        }
      ]
    }
  ]
}